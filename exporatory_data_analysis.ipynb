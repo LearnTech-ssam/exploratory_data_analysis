{
 "cells": [
  {
   "cell_type": "markdown",
   "metadata": {},
   "source": [
    "\n",
    "\n",
    "Questions:\n",
    "\n",
    "https://www.linkedin.com/pulse/15-questions-ask-during-exploratory-data-analysis-vikash-singh\n",
    "\n",
    "https://medium.com/@gauravtopre9/questions-to-ask-while-eda-1a19f82fbc5d\n",
    "\n",
    "https://www.quanthub.com/how-do-i-use-questions-to-guide-exploratory-data-analysis/\n",
    "\n",
    "\n",
    "Code:\n",
    "\n",
    "https://www.kaggle.com/code/ekami66/detailed-exploratory-data-analysis-with-python#Exploratory-data-analysis-(EDA)\n",
    "\n",
    "https://shopify.engineering/conducting-exploratory-data-analysis#\n",
    "\n",
    "https://www.analyticsvidhya.com/blog/2022/07/step-by-step-exploratory-data-analysis-eda-using-python/#h-step-13-eda-multivariate-analysis\n",
    "\n",
    "*****https://www.google.com/search?client=firefox-b-d&q=fit+data+to+a+distribution+python"
   ]
  },
  {
   "cell_type": "markdown",
   "metadata": {},
   "source": [
    "1. Data structure and distributions\n",
    "\n",
    "2. Null values and duplicates\n",
    "\n",
    "3. Outliers\n",
    "\n",
    "4. Correlations/Relationships\n",
    "\n",
    "5. Feature Engineering\n",
    "We will cover this in another session"
   ]
  }
 ],
 "metadata": {
  "kernelspec": {
   "display_name": ".venv",
   "language": "python",
   "name": "python3"
  },
  "language_info": {
   "name": "python",
   "version": "3.12.0"
  }
 },
 "nbformat": 4,
 "nbformat_minor": 2
}
